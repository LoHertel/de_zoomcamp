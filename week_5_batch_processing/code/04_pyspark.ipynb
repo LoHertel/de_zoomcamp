{
 "cells": [
  {
   "cell_type": "code",
   "execution_count": 19,
   "id": "07de9dc3",
   "metadata": {},
   "outputs": [],
   "source": [
    "import pyspark\n",
    "from pyspark.sql import SparkSession, types\n",
    "from pyspark.sql import functions as F"
   ]
  },
  {
   "cell_type": "code",
   "execution_count": 3,
   "id": "ca5bbb06",
   "metadata": {},
   "outputs": [
    {
     "name": "stderr",
     "output_type": "stream",
     "text": [
      "Using Spark's default log4j profile: org/apache/spark/log4j-defaults.properties\n",
      "Setting default log level to \"WARN\".\n",
      "To adjust logging level use sc.setLogLevel(newLevel). For SparkR, use setLogLevel(newLevel).\n",
      "22/03/08 01:04:43 WARN NativeCodeLoader: Unable to load native-hadoop library for your platform... using builtin-java classes where applicable\n"
     ]
    }
   ],
   "source": [
    "spark = SparkSession.builder \\\n",
    "    .master(\"local[*]\") \\\n",
    "    .appName('test') \\\n",
    "    .getOrCreate()"
   ]
  },
  {
   "cell_type": "markdown",
   "id": "b232eec0",
   "metadata": {},
   "source": [
    "Set working directory"
   ]
  },
  {
   "cell_type": "code",
   "execution_count": 4,
   "id": "e67482a4",
   "metadata": {},
   "outputs": [
    {
     "name": "stdout",
     "output_type": "stream",
     "text": [
      "/Users/lorenz/repos/data_engineering_zoomcamp/week_5_batch_processing/data\n"
     ]
    }
   ],
   "source": [
    "%cd ../data"
   ]
  },
  {
   "cell_type": "code",
   "execution_count": 3,
   "id": "cf8de204",
   "metadata": {},
   "outputs": [
    {
     "name": "stdout",
     "output_type": "stream",
     "text": [
      "--2022-02-16 21:13:50--  https://nyc-tlc.s3.amazonaws.com/trip+data/fhvhv_tripdata_2021-01.csv\n",
      "Resolving nyc-tlc.s3.amazonaws.com (nyc-tlc.s3.amazonaws.com)... 52.217.84.132\n",
      "Connecting to nyc-tlc.s3.amazonaws.com (nyc-tlc.s3.amazonaws.com)|52.217.84.132|:443... connected.\n",
      "HTTP request sent, awaiting response... 200 OK\n",
      "Length: 752335705 (717M) [text/csv]\n",
      "Saving to: ‘fhvhv_tripdata_2021-01.csv’\n",
      "\n",
      "fhvhv_tripdata_2021 100%[===================>] 717.48M  35.6MB/s    in 21s     \n",
      "\n",
      "2022-02-16 21:14:11 (34.4 MB/s) - ‘fhvhv_tripdata_2021-01.csv’ saved [752335705/752335705]\n",
      "\n"
     ]
    }
   ],
   "source": [
    "!wget https://nyc-tlc.s3.amazonaws.com/trip+data/fhvhv_tripdata_2021-01.csv"
   ]
  },
  {
   "cell_type": "code",
   "execution_count": 4,
   "id": "2a52087c",
   "metadata": {},
   "outputs": [
    {
     "name": "stdout",
     "output_type": "stream",
     "text": [
      "11908469 fhvhv_tripdata_2021-01.csv\r\n"
     ]
    }
   ],
   "source": [
    "!wc -l fhvhv_tripdata_2021-01.csv"
   ]
  },
  {
   "cell_type": "markdown",
   "id": "8dda5596",
   "metadata": {},
   "source": [
    "Analyse column types:\n",
    "Get first 1000 rows, read into pandas and see schema and head."
   ]
  },
  {
   "cell_type": "code",
   "execution_count": 14,
   "id": "4249e790",
   "metadata": {},
   "outputs": [],
   "source": [
    "!head -n 1001 fhvhv_tripdata_2021-01.csv > fhvhv_head.csv"
   ]
  },
  {
   "cell_type": "code",
   "execution_count": 6,
   "id": "6894312c",
   "metadata": {},
   "outputs": [
    {
     "data": {
      "text/plain": [
       "hvfhs_license_num        object\n",
       "dispatching_base_num     object\n",
       "pickup_datetime          object\n",
       "dropoff_datetime         object\n",
       "PULocationID              int64\n",
       "DOLocationID              int64\n",
       "SR_Flag                 float64\n",
       "dtype: object"
      ]
     },
     "execution_count": 6,
     "metadata": {},
     "output_type": "execute_result"
    }
   ],
   "source": [
    "import pandas as pd\n",
    "df_pandas = pd.read_csv('fhvhv_head.csv')\n",
    "df_pandas.dtypes"
   ]
  },
  {
   "cell_type": "code",
   "execution_count": 8,
   "id": "3d0af73f",
   "metadata": {},
   "outputs": [
    {
     "data": {
      "text/html": [
       "<div>\n",
       "<style scoped>\n",
       "    .dataframe tbody tr th:only-of-type {\n",
       "        vertical-align: middle;\n",
       "    }\n",
       "\n",
       "    .dataframe tbody tr th {\n",
       "        vertical-align: top;\n",
       "    }\n",
       "\n",
       "    .dataframe thead th {\n",
       "        text-align: right;\n",
       "    }\n",
       "</style>\n",
       "<table border=\"1\" class=\"dataframe\">\n",
       "  <thead>\n",
       "    <tr style=\"text-align: right;\">\n",
       "      <th></th>\n",
       "      <th>hvfhs_license_num</th>\n",
       "      <th>dispatching_base_num</th>\n",
       "      <th>pickup_datetime</th>\n",
       "      <th>dropoff_datetime</th>\n",
       "      <th>PULocationID</th>\n",
       "      <th>DOLocationID</th>\n",
       "      <th>SR_Flag</th>\n",
       "    </tr>\n",
       "  </thead>\n",
       "  <tbody>\n",
       "    <tr>\n",
       "      <th>0</th>\n",
       "      <td>HV0003</td>\n",
       "      <td>B02682</td>\n",
       "      <td>2021-01-01 00:33:44</td>\n",
       "      <td>2021-01-01 00:49:07</td>\n",
       "      <td>230</td>\n",
       "      <td>166</td>\n",
       "      <td>NaN</td>\n",
       "    </tr>\n",
       "    <tr>\n",
       "      <th>1</th>\n",
       "      <td>HV0003</td>\n",
       "      <td>B02682</td>\n",
       "      <td>2021-01-01 00:55:19</td>\n",
       "      <td>2021-01-01 01:18:21</td>\n",
       "      <td>152</td>\n",
       "      <td>167</td>\n",
       "      <td>NaN</td>\n",
       "    </tr>\n",
       "    <tr>\n",
       "      <th>2</th>\n",
       "      <td>HV0003</td>\n",
       "      <td>B02764</td>\n",
       "      <td>2021-01-01 00:23:56</td>\n",
       "      <td>2021-01-01 00:38:05</td>\n",
       "      <td>233</td>\n",
       "      <td>142</td>\n",
       "      <td>NaN</td>\n",
       "    </tr>\n",
       "    <tr>\n",
       "      <th>3</th>\n",
       "      <td>HV0003</td>\n",
       "      <td>B02764</td>\n",
       "      <td>2021-01-01 00:42:51</td>\n",
       "      <td>2021-01-01 00:45:50</td>\n",
       "      <td>142</td>\n",
       "      <td>143</td>\n",
       "      <td>NaN</td>\n",
       "    </tr>\n",
       "    <tr>\n",
       "      <th>4</th>\n",
       "      <td>HV0003</td>\n",
       "      <td>B02764</td>\n",
       "      <td>2021-01-01 00:48:14</td>\n",
       "      <td>2021-01-01 01:08:42</td>\n",
       "      <td>143</td>\n",
       "      <td>78</td>\n",
       "      <td>NaN</td>\n",
       "    </tr>\n",
       "  </tbody>\n",
       "</table>\n",
       "</div>"
      ],
      "text/plain": [
       "  hvfhs_license_num dispatching_base_num      pickup_datetime  \\\n",
       "0            HV0003               B02682  2021-01-01 00:33:44   \n",
       "1            HV0003               B02682  2021-01-01 00:55:19   \n",
       "2            HV0003               B02764  2021-01-01 00:23:56   \n",
       "3            HV0003               B02764  2021-01-01 00:42:51   \n",
       "4            HV0003               B02764  2021-01-01 00:48:14   \n",
       "\n",
       "      dropoff_datetime  PULocationID  DOLocationID  SR_Flag  \n",
       "0  2021-01-01 00:49:07           230           166      NaN  \n",
       "1  2021-01-01 01:18:21           152           167      NaN  \n",
       "2  2021-01-01 00:38:05           233           142      NaN  \n",
       "3  2021-01-01 00:45:50           142           143      NaN  \n",
       "4  2021-01-01 01:08:42           143            78      NaN  "
      ]
     },
     "execution_count": 8,
     "metadata": {},
     "output_type": "execute_result"
    }
   ],
   "source": [
    "df_pandas.head()"
   ]
  },
  {
   "cell_type": "markdown",
   "id": "2e762b2e",
   "metadata": {},
   "source": [
    "hvfhs_license_num: **String**  \n",
    "dispatching_base_num: **String**  \n",
    "pickup_datetime: **Datetime**  \n",
    "dropoff_datetime: **Datetime**  \n",
    "PULocationID: **Int**  \n",
    "DOLocationID: **Int**  \n",
    "SR_Flag: **Bool**  \n",
    "  \n",
    "According to the official data dictionary, SR_Flag is boolean:\n",
    "https://www1.nyc.gov/assets/tlc/downloads/pdf/data_dictionary_trip_records_hvfhs.pdf"
   ]
  },
  {
   "cell_type": "code",
   "execution_count": 11,
   "id": "fc61a99a",
   "metadata": {},
   "outputs": [],
   "source": [
    "schema = types.StructType([\n",
    "    types.StructField('hvfhs_license_num', types.StringType(), True),\n",
    "    types.StructField('dispatching_base_num', types.StringType(), True),\n",
    "    types.StructField('pickup_datetime', types.TimestampType(), True),\n",
    "    types.StructField('dropoff_datetime', types.TimestampType(), True),\n",
    "    types.StructField('PULocationID', types.IntegerType(), True),\n",
    "    types.StructField('DOLocationID', types.IntegerType(), True),\n",
    "    types.StructField('SR_Flag', types.BooleanType(), True)\n",
    "])"
   ]
  },
  {
   "cell_type": "code",
   "execution_count": 13,
   "id": "931021a7",
   "metadata": {},
   "outputs": [],
   "source": [
    "df = spark.read \\\n",
    "    .option(\"header\", \"true\") \\\n",
    "    .schema(schema) \\\n",
    "    .csv('../data/fhvhv_tripdata_2021-01.csv')"
   ]
  },
  {
   "cell_type": "code",
   "execution_count": 14,
   "id": "d44b7839",
   "metadata": {},
   "outputs": [
    {
     "data": {
      "text/plain": [
       "StructType(List(StructField(hvfhs_license_num,StringType,true),StructField(dispatching_base_num,StringType,true),StructField(pickup_datetime,TimestampType,true),StructField(dropoff_datetime,TimestampType,true),StructField(PULocationID,IntegerType,true),StructField(DOLocationID,IntegerType,true),StructField(SR_Flag,BooleanType,true)))"
      ]
     },
     "execution_count": 14,
     "metadata": {},
     "output_type": "execute_result"
    }
   ],
   "source": [
    "df.schema"
   ]
  },
  {
   "cell_type": "code",
   "execution_count": 15,
   "id": "c270d9d6",
   "metadata": {},
   "outputs": [],
   "source": [
    "df = df.repartition(24)"
   ]
  },
  {
   "cell_type": "code",
   "execution_count": null,
   "id": "7796c2b2",
   "metadata": {},
   "outputs": [],
   "source": [
    "df.write.parquet('../data/fhvhv/2021/01/')"
   ]
  },
  {
   "cell_type": "code",
   "execution_count": 17,
   "id": "c3cab876",
   "metadata": {},
   "outputs": [],
   "source": [
    "df = spark.read.parquet('../data/fhvhv/2021/01/')"
   ]
  },
  {
   "cell_type": "code",
   "execution_count": 18,
   "id": "203b5627",
   "metadata": {},
   "outputs": [
    {
     "name": "stdout",
     "output_type": "stream",
     "text": [
      "root\n",
      " |-- hvfhs_license_num: string (nullable = true)\n",
      " |-- dispatching_base_num: string (nullable = true)\n",
      " |-- pickup_datetime: timestamp (nullable = true)\n",
      " |-- dropoff_datetime: timestamp (nullable = true)\n",
      " |-- PULocationID: integer (nullable = true)\n",
      " |-- DOLocationID: integer (nullable = true)\n",
      " |-- SR_Flag: boolean (nullable = true)\n",
      "\n"
     ]
    }
   ],
   "source": [
    "df.printSchema()"
   ]
  },
  {
   "cell_type": "markdown",
   "id": "64172a47",
   "metadata": {},
   "source": [
    "```\n",
    "SELECT pickup_datetime, \n",
    "       dropoff_datetime, \n",
    "       PULocationID, \n",
    "       DOLocationID \n",
    "FROM df \n",
    "WHERE hvfhs_license_num =  HV0003\n",
    "```\n",
    "\n",
    "The spark code below is equivalent to the sql statement above."
   ]
  },
  {
   "cell_type": "code",
   "execution_count": 25,
   "id": "3ab1ca44",
   "metadata": {
    "scrolled": true
   },
   "outputs": [
    {
     "name": "stdout",
     "output_type": "stream",
     "text": [
      "+-------------------+-------------------+------------+------------+\n",
      "|    pickup_datetime|   dropoff_datetime|PULocationID|DOLocationID|\n",
      "+-------------------+-------------------+------------+------------+\n",
      "|2021-01-01 02:31:31|2021-01-01 02:39:30|         168|          41|\n",
      "|2021-01-03 14:15:23|2021-01-03 14:21:05|         145|         226|\n",
      "|2021-01-04 07:15:12|2021-01-04 07:28:18|          49|          25|\n",
      "|2021-01-02 17:29:50|2021-01-02 17:37:02|         215|         130|\n",
      "|2021-01-03 12:18:07|2021-01-03 12:25:59|         226|         145|\n",
      "|2021-01-01 10:45:44|2021-01-01 10:53:22|          14|         228|\n",
      "|2021-01-03 12:43:02|2021-01-03 12:49:29|         244|         243|\n",
      "|2021-01-03 01:53:03|2021-01-03 02:00:44|          60|         182|\n",
      "|2021-01-01 07:46:59|2021-01-01 07:52:04|         213|         213|\n",
      "|2021-01-02 11:45:37|2021-01-02 12:10:50|         244|          82|\n",
      "|2021-01-04 10:36:30|2021-01-04 10:55:28|          42|         230|\n",
      "|2021-01-01 02:44:53|2021-01-01 02:58:22|          72|          72|\n",
      "|2021-01-04 02:02:57|2021-01-04 02:06:03|          42|          74|\n",
      "|2021-01-02 14:32:35|2021-01-02 14:48:15|         216|         130|\n",
      "|2021-01-02 23:46:01|2021-01-02 23:55:31|         243|         182|\n",
      "|2021-01-03 13:12:13|2021-01-03 13:49:16|         228|         173|\n",
      "|2021-01-01 06:52:14|2021-01-01 07:05:43|          70|         160|\n",
      "|2021-01-01 12:37:42|2021-01-01 12:45:35|         218|         132|\n",
      "|2021-01-02 14:20:46|2021-01-02 14:34:58|         229|         143|\n",
      "|2021-01-01 11:35:41|2021-01-01 11:52:41|         182|         265|\n",
      "+-------------------+-------------------+------------+------------+\n",
      "only showing top 20 rows\n",
      "\n"
     ]
    }
   ],
   "source": [
    "df.select('pickup_datetime', 'dropoff_datetime', 'PULocationID', 'DOLocationID') \\\n",
    "  .filter(df.hvfhs_license_num == 'HV0003').show()"
   ]
  },
  {
   "cell_type": "markdown",
   "id": "652167ca",
   "metadata": {},
   "source": [
    "You could insert user defined functions (udf) into spark:\n",
    "1. create python function (which can be tested)\n",
    "2. make function an udf in spark"
   ]
  },
  {
   "cell_type": "code",
   "execution_count": 22,
   "id": "6d98c2ce",
   "metadata": {},
   "outputs": [],
   "source": [
    "def crazy_stuff(base_num):\n",
    "    num = int(base_num[1:])\n",
    "    if num % 7 == 0:\n",
    "        return f's/{num:03x}'\n",
    "    elif num % 3 == 0:\n",
    "        return f'a/{num:03x}'\n",
    "    else:\n",
    "        return f'e/{num:03x}'"
   ]
  },
  {
   "cell_type": "code",
   "execution_count": 23,
   "id": "9bb5d503",
   "metadata": {},
   "outputs": [],
   "source": [
    "crazy_stuff_udf = F.udf(crazy_stuff, returnType=types.StringType())"
   ]
  },
  {
   "cell_type": "markdown",
   "id": "de95d846",
   "metadata": {},
   "source": [
    "Use udf in spark query:  \n",
    "_See also column conversion to date ``F.to_date``_"
   ]
  },
  {
   "cell_type": "code",
   "execution_count": 24,
   "id": "b38f0465",
   "metadata": {
    "scrolled": true
   },
   "outputs": [
    {
     "name": "stderr",
     "output_type": "stream",
     "text": [
      "[Stage 6:>                                                          (0 + 1) / 1]\r"
     ]
    },
    {
     "name": "stdout",
     "output_type": "stream",
     "text": [
      "+-------+-----------+------------+------------+------------+\n",
      "|base_id|pickup_date|dropoff_date|PULocationID|DOLocationID|\n",
      "+-------+-----------+------------+------------+------------+\n",
      "|  e/9ce| 2021-01-03|  2021-01-03|         256|          61|\n",
      "|  s/b3d| 2021-01-01|  2021-01-01|         168|          41|\n",
      "|  e/acc| 2021-01-03|  2021-01-03|         145|         226|\n",
      "|  e/a39| 2021-01-04|  2021-01-04|          49|          25|\n",
      "|  e/9ce| 2021-01-01|  2021-01-01|          26|          26|\n",
      "|  e/9ce| 2021-01-02|  2021-01-03|         138|         265|\n",
      "|  e/b3b| 2021-01-02|  2021-01-02|         215|         130|\n",
      "|  e/b3b| 2021-01-03|  2021-01-03|         226|         145|\n",
      "|  a/b37| 2021-01-01|  2021-01-01|          14|         228|\n",
      "|  e/9ce| 2021-01-02|  2021-01-02|         129|          83|\n",
      "|  e/b3b| 2021-01-03|  2021-01-03|         244|         243|\n",
      "|  e/9ce| 2021-01-02|  2021-01-02|          47|         159|\n",
      "|  e/b3f| 2021-01-03|  2021-01-03|          60|         182|\n",
      "|  s/acd| 2021-01-01|  2021-01-01|         213|         213|\n",
      "|  e/9ce| 2021-01-04|  2021-01-04|          43|         265|\n",
      "|  e/a39| 2021-01-02|  2021-01-02|         244|          82|\n",
      "|  e/b3f| 2021-01-04|  2021-01-04|          42|         230|\n",
      "|  s/acd| 2021-01-01|  2021-01-01|          72|          72|\n",
      "|  e/b35| 2021-01-04|  2021-01-04|          42|          74|\n",
      "|  a/b43| 2021-01-02|  2021-01-02|         216|         130|\n",
      "+-------+-----------+------------+------------+------------+\n",
      "only showing top 20 rows\n",
      "\n"
     ]
    },
    {
     "name": "stderr",
     "output_type": "stream",
     "text": [
      "                                                                                \r"
     ]
    }
   ],
   "source": [
    "df \\\n",
    "    .withColumn('pickup_date', F.to_date(df.pickup_datetime)) \\\n",
    "    .withColumn('dropoff_date', F.to_date(df.dropoff_datetime)) \\\n",
    "    .withColumn('base_id', crazy_stuff_udf(df.dispatching_base_num)) \\\n",
    "    .select('base_id', 'pickup_date', 'dropoff_date', 'PULocationID', 'DOLocationID') \\\n",
    "    .show()"
   ]
  },
  {
   "cell_type": "code",
   "execution_count": 26,
   "id": "aa1b0e18",
   "metadata": {},
   "outputs": [],
   "source": [
    "spark.stop()"
   ]
  }
 ],
 "metadata": {
  "kernelspec": {
   "display_name": "Python 3 (ipykernel)",
   "language": "python",
   "name": "python3"
  },
  "language_info": {
   "codemirror_mode": {
    "name": "ipython",
    "version": 3
   },
   "file_extension": ".py",
   "mimetype": "text/x-python",
   "name": "python",
   "nbconvert_exporter": "python",
   "pygments_lexer": "ipython3",
   "version": "3.8.12"
  }
 },
 "nbformat": 4,
 "nbformat_minor": 5
}
