{
 "cells": [
  {
   "cell_type": "code",
   "execution_count": 4,
   "metadata": {},
   "outputs": [
    {
     "name": "stdout",
     "output_type": "stream",
     "text": [
      "The sql extension is already loaded. To reload it, use:\n",
      "  %reload_ext sql\n"
     ]
    }
   ],
   "source": [
    "%load_ext sql\n",
    "%sql bigquery://ny-tlc-339102\n",
    "\n",
    "# Workaround for BigQuery SQL: https://stackoverflow.com/a/68698722\n",
    "import sql\n",
    "sql.run._COMMIT_BLACKLIST_DIALECTS = sql.run._COMMIT_BLACKLIST_DIALECTS + (\"bigquery\",)"
   ]
  },
  {
   "cell_type": "markdown",
   "metadata": {},
   "source": [
    "## Week 4 Homework - WIP\n",
    "[Form]()  - To be published soon\n",
    "We will use all the knowledge learned in this week. Please answer your questions via form above.  \n",
    "* You can submit your homework multiple times. In this case, only the last submission will be used. \n",
    "**Deadline** for the homework is 21th Feb 2022 17:00 CET.\n",
    "\n",
    "\n",
    "In this homework, we'll use the models developed during the week 4 videos and enhance the already presented dbt project using the already loaded Taxi data for fhv vehicles for year 2019 in our DWH.\n",
    "\n",
    "We will use the data loaded for:\n",
    "* Building a source table: stg_fhv_tripdata\n",
    "* Building a fact table: fact_fhv_trips\n",
    "* Create a dashboard \n",
    "\n",
    "If you don't have access to GCP, you can do this locally using the ingested data from your Postgres database\n",
    "instead. If you have access to GCP, you don't need to do it for local Postgres -\n",
    "only if you want to."
   ]
  },
  {
   "cell_type": "markdown",
   "metadata": {},
   "source": [
    "### Question 1: \n",
    "**What is the count of records in the model fact_trips after running all models with the test run variable disabled and filtering for 2019 and 2020 data only (pickup datetime)**  \n",
    "You'll need to have completed the \"Build the first dbt models\" video and have been able to run the models via the CLI.  \n",
    "You should find the views and models for querying in your DWH."
   ]
  },
  {
   "cell_type": "code",
   "execution_count": 9,
   "metadata": {},
   "outputs": [
    {
     "name": "stdout",
     "output_type": "stream",
     "text": [
      " * bigquery://ny-tlc-339102\n",
      "1 rows affected.\n"
     ]
    },
    {
     "data": {
      "text/html": [
       "<table>\n",
       "    <tr>\n",
       "        <th>f0_</th>\n",
       "    </tr>\n",
       "    <tr>\n",
       "        <td>61635091</td>\n",
       "    </tr>\n",
       "</table>"
      ],
      "text/plain": [
       "[(61635091,)]"
      ]
     },
     "execution_count": 9,
     "metadata": {},
     "output_type": "execute_result"
    }
   ],
   "source": [
    "%%sql\n",
    "SELECT COUNT(*) FROM `ny-tlc-339102.trips_data_all.fact_trips`\n",
    "WHERE EXTRACT(YEAR FROM pickup_datetime) BETWEEN 2019 AND 2020;"
   ]
  },
  {
   "cell_type": "markdown",
   "metadata": {},
   "source": [
    "### Question 2: \n",
    "**What is the distribution between service type filtering by years 2019 and 2020 data**  \n",
    "You will need to complete \"Visualising the data\" videos, either using data studio or metabase. "
   ]
  },
  {
   "cell_type": "markdown",
   "metadata": {},
   "source": [
    "| service type |      count |  share |\n",
    "|--------------|-----------:|-------:|\n",
    "| Yellow       | 55,380,394 | 89.85% |\n",
    "| Green        |  6,254,697 | 10.15% |"
   ]
  },
  {
   "cell_type": "markdown",
   "metadata": {},
   "source": [
    "### Question 3: \n",
    "**What is the count of records in the model stg_fhv_tripdata after running all models with the test run variable disabled (:false)**  \n",
    "Create a staging model for the fhv data for 2019 keeping only records with entries for affiliated_base_number.  \n",
    "Run it via the CLI without limits (is_test_run: false)."
   ]
  },
  {
   "cell_type": "code",
   "execution_count": 6,
   "metadata": {},
   "outputs": [
    {
     "name": "stdout",
     "output_type": "stream",
     "text": [
      " * bigquery://ny-tlc-339102\n",
      "1 rows affected.\n"
     ]
    },
    {
     "data": {
      "text/html": [
       "<table>\n",
       "    <tr>\n",
       "        <th>f0_</th>\n",
       "    </tr>\n",
       "    <tr>\n",
       "        <td>42084899</td>\n",
       "    </tr>\n",
       "</table>"
      ],
      "text/plain": [
       "[(42084899,)]"
      ]
     },
     "execution_count": 6,
     "metadata": {},
     "output_type": "execute_result"
    }
   ],
   "source": [
    "%%sql\n",
    "SELECT COUNT(*) FROM trips_data_all.stg_fhv_tripdata;"
   ]
  },
  {
   "cell_type": "markdown",
   "metadata": {},
   "source": [
    "### Question 4: \n",
    "**What is the count of records in the model fact_fhv_trips after running all dependencies with the test run variable disabled (:false)**  \n",
    "Create a core model for the stg_fhv_tripdata joining with dim_zones.\n",
    "Similar to what we've done in fact_trips, keep only records with known pickup and dropoff locations entries for pickup and dropoff locations. \n",
    "Run it via the CLI without limits (is_test_run: false)."
   ]
  },
  {
   "cell_type": "code",
   "execution_count": 7,
   "metadata": {},
   "outputs": [
    {
     "name": "stdout",
     "output_type": "stream",
     "text": [
      " * bigquery://ny-tlc-339102\n",
      "1 rows affected.\n"
     ]
    },
    {
     "data": {
      "text/html": [
       "<table>\n",
       "    <tr>\n",
       "        <th>f0_</th>\n",
       "    </tr>\n",
       "    <tr>\n",
       "        <td>22676253</td>\n",
       "    </tr>\n",
       "</table>"
      ],
      "text/plain": [
       "[(22676253,)]"
      ]
     },
     "execution_count": 7,
     "metadata": {},
     "output_type": "execute_result"
    }
   ],
   "source": [
    "%%sql\n",
    "SELECT COUNT(*) FROM trips_data_all.fact_fhv_trips;"
   ]
  },
  {
   "cell_type": "markdown",
   "metadata": {},
   "source": [
    "### Question 5: \n",
    "**What is the month with the biggest amount of rides after building a tile for the fact_fhv_trips table**  \n",
    "Create a dashboard with some tiles that you find interesting to explore the data. One tile should show the amount of trips per month, based on the fact_fhv_trips table."
   ]
  },
  {
   "cell_type": "code",
   "execution_count": 8,
   "metadata": {},
   "outputs": [
    {
     "name": "stdout",
     "output_type": "stream",
     "text": [
      " * bigquery://ny-tlc-339102\n",
      "1 rows affected.\n"
     ]
    },
    {
     "data": {
      "text/html": [
       "<table>\n",
       "    <tr>\n",
       "        <th>f0_</th>\n",
       "        <th>cnt</th>\n",
       "    </tr>\n",
       "    <tr>\n",
       "        <td>Jan 2019</td>\n",
       "        <td>19847263</td>\n",
       "    </tr>\n",
       "</table>"
      ],
      "text/plain": [
       "[('Jan 2019', 19847263)]"
      ]
     },
     "execution_count": 8,
     "metadata": {},
     "output_type": "execute_result"
    }
   ],
   "source": [
    "%%sql\n",
    "SELECT FORMAT_DATE(\"%b %Y\", pickup_datetime), COUNT(*) as cnt FROM trips_data_all.fact_fhv_trips\n",
    "GROUP BY FORMAT_DATE(\"%b %Y\", pickup_datetime)\n",
    "ORDER BY cnt DESC\n",
    "LIMIT 1;"
   ]
  }
 ],
 "metadata": {
  "interpreter": {
   "hash": "a2d3ce0c5f16d2196f57a43042a46e95ca61a0aae8277eeefa1c73b42baeade9"
  },
  "kernelspec": {
   "display_name": "Python 3.6.8 ('base')",
   "language": "python",
   "name": "python3"
  },
  "language_info": {
   "codemirror_mode": {
    "name": "ipython",
    "version": 3
   },
   "file_extension": ".py",
   "mimetype": "text/x-python",
   "name": "python",
   "nbconvert_exporter": "python",
   "pygments_lexer": "ipython3",
   "version": "3.6.8"
  },
  "orig_nbformat": 4
 },
 "nbformat": 4,
 "nbformat_minor": 2
}
