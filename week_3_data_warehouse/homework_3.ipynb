{
 "cells": [
  {
   "cell_type": "code",
   "execution_count": 5,
   "metadata": {},
   "outputs": [
    {
     "name": "stdout",
     "output_type": "stream",
     "text": [
      "The sql extension is already loaded. To reload it, use:\n",
      "  %reload_ext sql\n"
     ]
    }
   ],
   "source": [
    "%load_ext sql\n",
    "%sql bigquery://ny-tlc-339102\n",
    "\n",
    "# Workaround for BigQuery SQL: https://stackoverflow.com/a/68698722\n",
    "import sql\n",
    "sql.run._COMMIT_BLACKLIST_DIALECTS = sql.run._COMMIT_BLACKLIST_DIALECTS + (\"bigquery\",)"
   ]
  },
  {
   "cell_type": "markdown",
   "metadata": {},
   "source": [
    "## Homework\n",
    "[Form](https://forms.gle/ytzVYUh2RptgkvF79)  \n",
    "We will use all the knowledge learned in this week. Please answer your questions via form above.  \n",
    "**Deadline** for the homework is 14th Feb 2022 17:00 CET.\n",
    "\n",
    "### Question 1: \n",
    "**What is count for fhv vehicles data for year 2019**  \n",
    "Can load the data for cloud storage and run a count(*)"
   ]
  },
  {
   "cell_type": "code",
   "execution_count": 10,
   "metadata": {},
   "outputs": [
    {
     "name": "stdout",
     "output_type": "stream",
     "text": [
      " * bigquery://ny-tlc-339102\n",
      "1 rows affected.\n"
     ]
    },
    {
     "data": {
      "text/html": [
       "<table>\n",
       "    <tr>\n",
       "        <th>cnt</th>\n",
       "    </tr>\n",
       "    <tr>\n",
       "        <td>42084899</td>\n",
       "    </tr>\n",
       "</table>"
      ],
      "text/plain": [
       "[(42084899,)]"
      ]
     },
     "execution_count": 10,
     "metadata": {},
     "output_type": "execute_result"
    }
   ],
   "source": [
    "%%sql\n",
    "SELECT COUNT(*) AS cnt FROM trips_data_all.fhv_tripdata\n",
    "WHERE EXTRACT(YEAR FROM pickup_datetime) = 2019;"
   ]
  },
  {
   "cell_type": "markdown",
   "metadata": {},
   "source": [
    "### Question 2: \n",
    "**How many distinct dispatching_base_num we have in fhv for 2019**  \n",
    "Can run a distinct query on the table from question 1"
   ]
  },
  {
   "cell_type": "code",
   "execution_count": 11,
   "metadata": {},
   "outputs": [
    {
     "name": "stdout",
     "output_type": "stream",
     "text": [
      " * bigquery://ny-tlc-339102\n",
      "1 rows affected.\n"
     ]
    },
    {
     "data": {
      "text/html": [
       "<table>\n",
       "    <tr>\n",
       "        <th>num_dist_dispatching_base</th>\n",
       "    </tr>\n",
       "    <tr>\n",
       "        <td>792</td>\n",
       "    </tr>\n",
       "</table>"
      ],
      "text/plain": [
       "[(792,)]"
      ]
     },
     "execution_count": 11,
     "metadata": {},
     "output_type": "execute_result"
    }
   ],
   "source": [
    "%%sql\n",
    "SELECT COUNT(DISTINCT dispatching_base_num) AS num_dist_dispatching_base FROM trips_data_all.fhv_tripdata;"
   ]
  },
  {
   "cell_type": "markdown",
   "metadata": {},
   "source": [
    "### Question 3: \n",
    "**Best strategy to optimise if query always filter by dropoff_datetime and order by dispatching_base_num**  \n",
    "Review partitioning and clustering video.   \n",
    "We need to think what will be the most optimal strategy to improve query \n",
    "performance and reduce cost."
   ]
  },
  {
   "cell_type": "markdown",
   "metadata": {},
   "source": [
    "`Partition by dropoff_datetime and cluster by dispatching_base_num`"
   ]
  },
  {
   "cell_type": "markdown",
   "metadata": {},
   "source": [
    "### Question 4: \n",
    "**What is the count, estimated and actual data processed for query which counts trip between 2019/01/01 and 2019/03/31 for dispatching_base_num B00987, B02060, B02279**  \n",
    "Create a table with optimized clustering and partitioning, and run a \n",
    "count(*). Estimated data processed can be found in top right corner and\n",
    "actual data processed can be found after the query is executed."
   ]
  },
  {
   "cell_type": "code",
   "execution_count": 12,
   "metadata": {},
   "outputs": [
    {
     "name": "stdout",
     "output_type": "stream",
     "text": [
      " * bigquery://ny-tlc-339102\n",
      "1 rows affected.\n"
     ]
    },
    {
     "data": {
      "text/html": [
       "<table>\n",
       "    <tr>\n",
       "        <th>f0_</th>\n",
       "    </tr>\n",
       "    <tr>\n",
       "        <td>26647</td>\n",
       "    </tr>\n",
       "</table>"
      ],
      "text/plain": [
       "[(26647,)]"
      ]
     },
     "execution_count": 12,
     "metadata": {},
     "output_type": "execute_result"
    }
   ],
   "source": [
    "%%sql\n",
    "SELECT COUNT(*) FROM trips_data_all.fhv_tripdata\n",
    "WHERE DATE(pickup_datetime) BETWEEN '2019-01-01' AND '2019-03-31'\n",
    "AND dispatching_base_num IN ('B00987', 'B02060', 'B02279');"
   ]
  },
  {
   "cell_type": "markdown",
   "metadata": {},
   "source": [
    "The count is `26,647`, the estimates and processed data are both 400.1 MiB."
   ]
  },
  {
   "cell_type": "markdown",
   "metadata": {},
   "source": [
    "### Question 5: \n",
    "**What will be the best partitioning or clustering strategy when filtering on dispatching_base_num and SR_Flag**  \n",
    "Review partitioning and clustering video. \n",
    "Clustering cannot be created on all data types."
   ]
  },
  {
   "cell_type": "markdown",
   "metadata": {},
   "source": [
    "`Partition by dispatching_base_num and cluster by SR_Flag`"
   ]
  },
  {
   "cell_type": "markdown",
   "metadata": {},
   "source": [
    "### Question 6: \n",
    "**What improvements can be seen by partitioning and clustering for data size less than 1 GB**  \n",
    "Partitioning and clustering also creates extra metadata.  \n",
    "Before query execution this metadata needs to be processed."
   ]
  },
  {
   "cell_type": "markdown",
   "metadata": {},
   "source": [
    "`No improvements` and `Can be worse due to metadata`"
   ]
  },
  {
   "cell_type": "markdown",
   "metadata": {},
   "source": [
    "### (Not required) Question 7: \n",
    "**In which format does BigQuery save data**  \n",
    "Review big query internals video."
   ]
  },
  {
   "cell_type": "markdown",
   "metadata": {},
   "source": [
    "`Columnar`"
   ]
  }
 ],
 "metadata": {
  "interpreter": {
   "hash": "a2d3ce0c5f16d2196f57a43042a46e95ca61a0aae8277eeefa1c73b42baeade9"
  },
  "kernelspec": {
   "display_name": "Python 3.6.8 ('base')",
   "language": "python",
   "name": "python3"
  },
  "language_info": {
   "codemirror_mode": {
    "name": "ipython",
    "version": 3
   },
   "file_extension": ".py",
   "mimetype": "text/x-python",
   "name": "python",
   "nbconvert_exporter": "python",
   "pygments_lexer": "ipython3",
   "version": "3.6.8"
  },
  "orig_nbformat": 4
 },
 "nbformat": 4,
 "nbformat_minor": 2
}
